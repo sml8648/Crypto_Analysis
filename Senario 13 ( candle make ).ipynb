{
 "cells": [
  {
   "cell_type": "code",
   "execution_count": 166,
   "id": "9b81d30c",
   "metadata": {},
   "outputs": [],
   "source": [
    "import pandas_datareader as web\n",
    "import pandas as pd\n",
    "import numpy as np\n",
    "from pykrx import stock\n",
    "import datetime\n",
    "from dateutil.relativedelta import relativedelta\n",
    "import matplotlib.pyplot as plt\n",
    "pd.set_option('display.max_rows', None)\n",
    "import pprint"
   ]
  },
  {
   "cell_type": "code",
   "execution_count": 167,
   "id": "8545def0",
   "metadata": {},
   "outputs": [],
   "source": [
    "#BTC_D = pd.read_csv('../Binance_BTCUSDT_d.csv').sort_index(ascending=False)"
   ]
  },
  {
   "cell_type": "code",
   "execution_count": null,
   "id": "70eda7f0",
   "metadata": {},
   "outputs": [],
   "source": [
    "#음 존나 간결하군 아주 만족스러워"
   ]
  },
  {
   "cell_type": "code",
   "execution_count": 171,
   "id": "e00e99ab",
   "metadata": {},
   "outputs": [],
   "source": [
    "def Candle_make(window, filename=None):\n",
    "    \n",
    "    # file load\n",
    "    BTC_D = pd.read_csv('../Binance_BTCUSDT_d.csv').sort_index(ascending=False)\n",
    "    \n",
    "    # make void DataFrame\n",
    "    New_candle = pd.DataFrame(columns=['Date', 'Open', 'Close','High','Low'])\n",
    "    \n",
    "    # loop until dataframe size smaller than window size\n",
    "    while len(BTC_D) >= window:\n",
    "        \n",
    "        Candle = {}\n",
    "        Target_df = BTC_D.tail(window)\n",
    "        Candle['Date'] = Target_df.iloc[0]['date']\n",
    "        Candle['Open'] = Target_df.iloc[0]['open']\n",
    "        Candle['Close'] = Target_df.iloc[window-1]['close']\n",
    "        Candle['High'] = max(Target_df['high'])\n",
    "        Candle['Low'] = min(Target_df['low'])\n",
    "        # Volumn data will be added\n",
    "\n",
    "        # Candle Add\n",
    "        New_candle = New_candle.append(Candle, ignore_index=True)\n",
    "\n",
    "        # 만들어진 봉에 대해서는 인덱스를 기반으로 삭제 처리\n",
    "        index_list = BTC_D.tail(window).index\n",
    "        BTC_D = BTC_D.drop(index_list)\n",
    "\n",
    "        print(Candle['Date'],Candle['Open'],Candle['Close'],Candle['High'],Candle['Low'])\n",
    "    \n",
    "    return New_candle"
   ]
  },
  {
   "cell_type": "code",
   "execution_count": null,
   "id": "647ff07d",
   "metadata": {},
   "outputs": [],
   "source": []
  }
 ],
 "metadata": {
  "kernelspec": {
   "display_name": "Python 3 (ipykernel)",
   "language": "python",
   "name": "python3"
  },
  "language_info": {
   "codemirror_mode": {
    "name": "ipython",
    "version": 3
   },
   "file_extension": ".py",
   "mimetype": "text/x-python",
   "name": "python",
   "nbconvert_exporter": "python",
   "pygments_lexer": "ipython3",
   "version": "3.8.12"
  }
 },
 "nbformat": 4,
 "nbformat_minor": 5
}
